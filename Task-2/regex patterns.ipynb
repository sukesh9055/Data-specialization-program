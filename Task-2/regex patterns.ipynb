{
 "cells": [
  {
   "cell_type": "markdown",
   "id": "fe92be16",
   "metadata": {},
   "source": [
    "Square Star Pattern"
   ]
  },
  {
   "cell_type": "code",
   "execution_count": 1,
   "id": "432125e9",
   "metadata": {},
   "outputs": [
    {
     "name": "stdout",
     "output_type": "stream",
     "text": [
      "* * * * * \n",
      "* * * * * \n",
      "* * * * * \n",
      "* * * * * \n",
      "* * * * * \n"
     ]
    }
   ],
   "source": [
    "n=5\n",
    "for i in range(n):\n",
    "    for j in range(n):\n",
    "        print(\"*\",end=\" \")\n",
    "    print()"
   ]
  },
  {
   "cell_type": "markdown",
   "id": "896f6c23",
   "metadata": {},
   "source": [
    "Print Hollow Square Star Pattern"
   ]
  },
  {
   "cell_type": "code",
   "execution_count": 2,
   "id": "383c1256",
   "metadata": {},
   "outputs": [
    {
     "name": "stdout",
     "output_type": "stream",
     "text": [
      "* * * * * \n",
      "*       * \n",
      "*       * \n",
      "*       * \n",
      "* * * * * \n"
     ]
    }
   ],
   "source": [
    "n= 5\n",
    "for i in range(n):\n",
    "    for j in range(n):\n",
    "        if(i==0 or i == n-1 or j==0 or j== n-1):\n",
    "            print(\"*\",end=\" \")\n",
    "        else:\n",
    "            print(\" \",end=\" \")\n",
    "    print()"
   ]
  },
  {
   "cell_type": "markdown",
   "id": "dcf8d08e",
   "metadata": {},
   "source": [
    " Rhombus Star Pattern"
   ]
  },
  {
   "cell_type": "code",
   "execution_count": 3,
   "id": "2597e662",
   "metadata": {},
   "outputs": [
    {
     "name": "stdout",
     "output_type": "stream",
     "text": [
      "* * * * * \n",
      "  * * * * * \n",
      "    * * * * * \n",
      "      * * * * * \n",
      "        * * * * * \n"
     ]
    }
   ],
   "source": [
    "n=5\n",
    "for i in range(0,n):\n",
    "    for j in range(1,i+1):\n",
    "        print(\" \",end=\" \")\n",
    "    for j in range(0,n):\n",
    "        print(\"*\",end=\" \")\n",
    "    print()"
   ]
  },
  {
   "cell_type": "markdown",
   "id": "8cec12ae",
   "metadata": {},
   "source": [
    "Mirrored Rhombus Star Pattern"
   ]
  },
  {
   "cell_type": "code",
   "execution_count": 4,
   "id": "3e9c4099",
   "metadata": {},
   "outputs": [
    {
     "name": "stdout",
     "output_type": "stream",
     "text": [
      "        * * * * * \n",
      "      * * * * * \n",
      "    * * * * * \n",
      "  * * * * * \n",
      "* * * * * \n"
     ]
    }
   ],
   "source": [
    "n=5\n",
    "for i in range(0,n):\n",
    "    for j in range(0,n-i-1):\n",
    "        print(\" \",end=\" \")\n",
    "    for j in range(0,n):\n",
    "        print(\"*\",end=\" \")\n",
    "    print()\n",
    "    "
   ]
  },
  {
   "cell_type": "markdown",
   "id": "61e4096c",
   "metadata": {},
   "source": [
    "Triangle Star Pattern"
   ]
  },
  {
   "cell_type": "code",
   "execution_count": 5,
   "id": "74be85c0",
   "metadata": {},
   "outputs": [
    {
     "name": "stdout",
     "output_type": "stream",
     "text": [
      "* \n",
      "* * \n",
      "* * * \n",
      "* * * * \n",
      "* * * * * \n"
     ]
    }
   ],
   "source": [
    "n=5\n",
    "for i in range(0,n):\n",
    "    for j in range(0,i+1):\n",
    "        print(\"*\",end=\" \")\n",
    "    print()"
   ]
  },
  {
   "cell_type": "code",
   "execution_count": 6,
   "id": "475a63dc",
   "metadata": {},
   "outputs": [
    {
     "name": "stdout",
     "output_type": "stream",
     "text": [
      "5 \n",
      "5 5 \n",
      "5 5 5 \n",
      "5 5 5 5 \n",
      "5 5 5 5 5 \n"
     ]
    }
   ],
   "source": [
    "n=5\n",
    "for i in range(0,n):\n",
    "    for j in range(0,i+1):\n",
    "        print(\"5\",end=\" \")\n",
    "    print()"
   ]
  },
  {
   "cell_type": "markdown",
   "id": "97069843",
   "metadata": {},
   "source": [
    "Pyramid Star Pattern"
   ]
  },
  {
   "cell_type": "code",
   "execution_count": 7,
   "id": "2fd18e53",
   "metadata": {},
   "outputs": [
    {
     "name": "stdout",
     "output_type": "stream",
     "text": [
      "        * \n",
      "      * * * \n",
      "    * * * * * \n",
      "  * * * * * * * \n",
      "* * * * * * * * * \n"
     ]
    }
   ],
   "source": [
    "n=5\n",
    "for i in range(0,n):\n",
    "    for j in range(0,n-i-1):\n",
    "        print(\" \",end=\" \")\n",
    "    for j in range(0,i*2+1):\n",
    "        print(\"*\",end=\" \")\n",
    "    print()"
   ]
  },
  {
   "cell_type": "markdown",
   "id": "aca62574",
   "metadata": {},
   "source": [
    " Hollow Pyramid Star Pattern"
   ]
  },
  {
   "cell_type": "code",
   "execution_count": 8,
   "id": "3efa0e76",
   "metadata": {},
   "outputs": [
    {
     "name": "stdout",
     "output_type": "stream",
     "text": [
      "        * \n",
      "      *   * \n",
      "    *       * \n",
      "  *           * \n",
      "*               * \n",
      "* * * * * * * * * "
     ]
    }
   ],
   "source": [
    "n=5\n",
    "k=0\n",
    "for i in range(1,n+1):\n",
    "    for j in range(i,n):\n",
    "        print(\" \",end=\" \")\n",
    "    while k != (2*i-1):\n",
    "        if k==0 or k==2*i-2:\n",
    "            print(\"*\",end=\" \")\n",
    "        else:\n",
    "            print(\" \",end=\" \")\n",
    "        k=k+1\n",
    "    k=0\n",
    "    print()\n",
    "for i in range(0,2*n-1):\n",
    "    print(\"*\",end=\" \")\n"
   ]
  },
  {
   "cell_type": "markdown",
   "id": "a7fa8017",
   "metadata": {},
   "source": [
    " Inverted Pyramid Star Pattern"
   ]
  },
  {
   "cell_type": "code",
   "execution_count": 9,
   "id": "c6af659c",
   "metadata": {},
   "outputs": [
    {
     "name": "stdout",
     "output_type": "stream",
     "text": [
      "* * * * * * * * * \n",
      "  * * * * * * * \n",
      "    * * * * * \n",
      "      * * * \n",
      "        * \n"
     ]
    }
   ],
   "source": [
    "n=5\n",
    "for i in range(0,n):\n",
    "    for j in range(0,i):\n",
    "        print(\" \",end=\" \")\n",
    "    for j in range(i*2,n*2-1):\n",
    "        print(\"*\",end=\" \")\n",
    "    print()"
   ]
  },
  {
   "cell_type": "markdown",
   "id": "e298c0ee",
   "metadata": {},
   "source": [
    " Half Diamond Star Pattern"
   ]
  },
  {
   "cell_type": "code",
   "execution_count": 10,
   "id": "92095163",
   "metadata": {},
   "outputs": [
    {
     "name": "stdout",
     "output_type": "stream",
     "text": [
      "* \n",
      "* * \n",
      "* * * \n",
      "* * * * \n",
      "* * * * * \n",
      "* * * * \n",
      "* * * \n",
      "* * \n",
      "* \n"
     ]
    }
   ],
   "source": [
    "n=5\n",
    "for i in range(0,n):\n",
    "    for j in range(0,i+1):\n",
    "        print(\"*\",end=\" \")\n",
    "    print()\n",
    "\n",
    "for i in range(1,n):\n",
    "    for j in range(0,n-i):\n",
    "        print(\"*\",end=\" \")\n",
    "    print()"
   ]
  },
  {
   "cell_type": "markdown",
   "id": "808c89f7",
   "metadata": {},
   "source": [
    "Inverted Half Diamond Star Pattern"
   ]
  },
  {
   "cell_type": "code",
   "execution_count": 11,
   "id": "9797dbb3",
   "metadata": {},
   "outputs": [
    {
     "name": "stdout",
     "output_type": "stream",
     "text": [
      "        * \n",
      "      * * \n",
      "    * * * \n",
      "  * * * * \n",
      "* * * * * \n",
      "  * * * * \n",
      "    * * * \n",
      "      * * \n",
      "        * \n"
     ]
    }
   ],
   "source": [
    "n=5\n",
    "for i in range(0,n):\n",
    "    for j in range(0,n-i-1):\n",
    "        print(\" \",end=\" \")\n",
    "    for j in range(0,i+1):\n",
    "        print(\"*\",end=\" \")\n",
    "    print()\n",
    "for i in range(1,n):\n",
    "    for i in range(0,i):\n",
    "        print(\" \",end=\" \")\n",
    "    for j in range(0,n-i-1):\n",
    "        print(\"*\",end=\" \")\n",
    "    print()"
   ]
  },
  {
   "cell_type": "markdown",
   "id": "63844502",
   "metadata": {},
   "source": [
    "print number pattern"
   ]
  },
  {
   "cell_type": "code",
   "execution_count": 12,
   "id": "176609b4",
   "metadata": {},
   "outputs": [
    {
     "name": "stdout",
     "output_type": "stream",
     "text": [
      "\n",
      "1 \n",
      "2 2 \n",
      "3 3 3 \n",
      "4 4 4 4 \n",
      "5 5 5 5 5 \n",
      "6 6 6 6 6 6 \n"
     ]
    }
   ],
   "source": [
    "n=6\n",
    "for i in range(n+1):\n",
    "    for j in range(i):\n",
    "        print(i,end=\" \")\n",
    "    print()"
   ]
  },
  {
   "cell_type": "markdown",
   "id": "c06c9d32",
   "metadata": {},
   "source": [
    "Pyramid pattern of numbers"
   ]
  },
  {
   "cell_type": "code",
   "execution_count": 13,
   "id": "600c2746",
   "metadata": {},
   "outputs": [
    {
     "name": "stdout",
     "output_type": "stream",
     "text": [
      "1 \n",
      "1 2 \n",
      "1 2 3 \n",
      "1 2 3 4 \n",
      "1 2 3 4 5 \n"
     ]
    }
   ],
   "source": [
    "n=5\n",
    "for i in range(1,n+1):\n",
    "    for j in range(1,i+1):\n",
    "        print(j,end=\" \")\n",
    "    print()"
   ]
  },
  {
   "cell_type": "markdown",
   "id": "2f7ccfbe",
   "metadata": {},
   "source": [
    "Inverted pyramid pattern of numbers"
   ]
  },
  {
   "cell_type": "code",
   "execution_count": 14,
   "id": "fb4c5e92",
   "metadata": {},
   "outputs": [
    {
     "name": "stdout",
     "output_type": "stream",
     "text": [
      "1 1 1 1 1 \r\n",
      "2 2 2 2 \r\n",
      "3 3 3 \r\n",
      "4 4 \r\n",
      "5 \r\n"
     ]
    }
   ],
   "source": [
    "n=5\n",
    "x=0\n",
    "for i in range(n,0,-1):\n",
    "    x+=1\n",
    "    for j in range(1,i+1):\n",
    "        print(x,end=\" \")\n",
    "    print(\"\\r\")\n",
    "    "
   ]
  },
  {
   "cell_type": "markdown",
   "id": "853c4555",
   "metadata": {},
   "source": [
    "Inverted Pyramid pattern with the same digit"
   ]
  },
  {
   "cell_type": "code",
   "execution_count": 15,
   "id": "20e31cf7",
   "metadata": {},
   "outputs": [
    {
     "name": "stdout",
     "output_type": "stream",
     "text": [
      "5 5 5 5 5  \n",
      "5 5 5 5  \n",
      "5 5 5  \n",
      "5 5  \n",
      "5  \n"
     ]
    }
   ],
   "source": [
    "n=5\n",
    "x=n\n",
    "for i in range(n,0,-1):\n",
    "    \n",
    "    for j in range(0,i):\n",
    "        print(x,end=\" \")\n",
    "    print(\" \")"
   ]
  },
  {
   "cell_type": "markdown",
   "id": "0f351af9",
   "metadata": {},
   "source": [
    "Another inverted half pyramid pattern with number"
   ]
  },
  {
   "cell_type": "code",
   "execution_count": 16,
   "id": "86630ff5",
   "metadata": {},
   "outputs": [
    {
     "name": "stdout",
     "output_type": "stream",
     "text": [
      "0 1 2 3 4 5 \n",
      "0 1 2 3 4 \n",
      "0 1 2 3 \n",
      "0 1 2 \n",
      "0 1 \n"
     ]
    }
   ],
   "source": [
    "n=5\n",
    "for i in range(n,0,-1):\n",
    "    for j in range(0,i+1):\n",
    "        print(j,end=\" \")\n",
    "    print()"
   ]
  },
  {
   "cell_type": "markdown",
   "id": "7ccee686",
   "metadata": {},
   "source": [
    "Alternate numbers pattern using while loop"
   ]
  },
  {
   "cell_type": "code",
   "execution_count": 17,
   "id": "7afef271",
   "metadata": {},
   "outputs": [
    {
     "name": "stdout",
     "output_type": "stream",
     "text": [
      "1 \n",
      "3 3 \n",
      "5 5 5 \n",
      "7 7 7 7 \n",
      "9 9 9 9 9 \n"
     ]
    }
   ],
   "source": [
    "n=5\n",
    "i=1\n",
    "while i<= n:\n",
    "    j=1\n",
    "    while j <= i:\n",
    "        print((i*2-1),end=\" \")\n",
    "        j=j+1\n",
    "    i=i+1\n",
    "    print(\"\")"
   ]
  },
  {
   "cell_type": "markdown",
   "id": "eaeb85f9",
   "metadata": {},
   "source": [
    "Reverse number pattern"
   ]
  },
  {
   "cell_type": "code",
   "execution_count": 18,
   "id": "609de354",
   "metadata": {},
   "outputs": [
    {
     "name": "stdout",
     "output_type": "stream",
     "text": [
      "5 5 5 5 5 \n",
      "4 4 4 4 \n",
      "3 3 3 \n",
      "2 2 \n",
      "1 \n"
     ]
    }
   ],
   "source": [
    "n=5\n",
    "for i in range(n,0,-1):\n",
    "    x=i\n",
    "    for j in range(0,i):\n",
    "        print(x,end=\" \")\n",
    "    print()"
   ]
  },
  {
   "cell_type": "markdown",
   "id": "29c49abe",
   "metadata": {},
   "source": [
    "Reverse Pyramid of Numbers"
   ]
  },
  {
   "cell_type": "code",
   "execution_count": 19,
   "id": "41a6eea3",
   "metadata": {},
   "outputs": [
    {
     "name": "stdout",
     "output_type": "stream",
     "text": [
      "1 \n",
      "2 1 \n",
      "3 2 1 \n",
      "4 3 2 1 \n"
     ]
    }
   ],
   "source": [
    "n=5\n",
    "for i in range(1,n):\n",
    "    for j in range(i,0,-1):\n",
    "        print(j,end=\" \")\n",
    "    print()"
   ]
  },
  {
   "cell_type": "markdown",
   "id": "ecc5aed9",
   "metadata": {},
   "source": [
    "Another reverse number pattern"
   ]
  },
  {
   "cell_type": "code",
   "execution_count": 20,
   "id": "9f47d904",
   "metadata": {},
   "outputs": [
    {
     "name": "stdout",
     "output_type": "stream",
     "text": [
      "5 4 3 2 1 \n",
      "4 3 2 1 \n",
      "3 2 1 \n",
      "2 1 \n",
      "1 \n",
      "\n"
     ]
    }
   ],
   "source": [
    "n=5\n",
    "for i in range(0,n+1):\n",
    "    for j in range(n-i,0,-1):\n",
    "        print(j,end=\" \")\n",
    "    print()\n",
    "    "
   ]
  },
  {
   "cell_type": "markdown",
   "id": "3daab8b1",
   "metadata": {},
   "source": [
    "Print reverse number from 10 to 1"
   ]
  },
  {
   "cell_type": "code",
   "execution_count": 21,
   "id": "1de6fdaf",
   "metadata": {},
   "outputs": [
    {
     "name": "stdout",
     "output_type": "stream",
     "text": [
      "1 \n",
      "3 2 \n",
      "6 5 4 \n",
      "10 9 8 7 \n"
     ]
    }
   ],
   "source": [
    "st=1\n",
    "sp=2\n",
    "c_n=sp\n",
    "for row in range(2,6):\n",
    "    for col in range(st,sp):\n",
    "        c_n-=1\n",
    "        print(c_n,end=\" \")\n",
    "    print()\n",
    "    st=sp\n",
    "    sp+=row\n",
    "    c_n=sp"
   ]
  },
  {
   "cell_type": "markdown",
   "id": "d77124d7",
   "metadata": {},
   "source": [
    "Number triangle pattern\n",
    " right-angled triangle pattern of numbers"
   ]
  },
  {
   "cell_type": "code",
   "execution_count": 22,
   "id": "416c83f0",
   "metadata": {},
   "outputs": [
    {
     "name": "stdout",
     "output_type": "stream",
     "text": [
      "          1 \n",
      "        1 2 \n",
      "      1 2 3 \n",
      "    1 2 3 4 \n",
      "  1 2 3 4 5 \n"
     ]
    }
   ],
   "source": [
    "r=6\n",
    "for i in range(1,r):\n",
    "    n=1\n",
    "    for j in range(r,0,-1):\n",
    "        if j>i:\n",
    "            print(\" \",end=\" \")\n",
    "        else:\n",
    "            print(n,end=\" \")\n",
    "            n+=1\n",
    "    print()"
   ]
  },
  {
   "cell_type": "markdown",
   "id": "fee3bd7d",
   "metadata": {},
   "source": [
    "Square pattern with numbers"
   ]
  },
  {
   "cell_type": "code",
   "execution_count": 23,
   "id": "b86eb028",
   "metadata": {},
   "outputs": [
    {
     "name": "stdout",
     "output_type": "stream",
     "text": [
      "1 2 3 4 5 \n",
      "2 2 3 4 5 \n",
      "3 3 3 4 5 \n",
      "4 4 4 4 5 \n",
      "5 5 5 5 5 \n"
     ]
    }
   ],
   "source": [
    "r=5\n",
    "for i in range(1,r+1):\n",
    "    for j in range(1,r+1):\n",
    "        if j<=i:\n",
    "            print(i,end=\" \")\n",
    "        else:\n",
    "            print(j,end=\" \")\n",
    "    print()"
   ]
  },
  {
   "cell_type": "markdown",
   "id": "8edb5342",
   "metadata": {},
   "source": [
    "Multiplication table pattern"
   ]
  },
  {
   "cell_type": "code",
   "execution_count": 24,
   "id": "9e46a3ca",
   "metadata": {},
   "outputs": [
    {
     "name": "stdout",
     "output_type": "stream",
     "text": [
      "1 \n",
      "2 4 \n",
      "3 6 9 \n",
      "4 8 12 16 \n",
      "5 10 15 20 25 \n",
      "6 12 18 24 30 36 \n"
     ]
    }
   ],
   "source": [
    "r=6\n",
    "for i in range(1,r+1):\n",
    "    for j in range(1,i+1):\n",
    "        s=i*j\n",
    "        print(i*j,end=\" \")\n",
    "    print()"
   ]
  },
  {
   "cell_type": "markdown",
   "id": "fce2d524",
   "metadata": {},
   "source": [
    "Equilateral triangle pattern of star"
   ]
  },
  {
   "cell_type": "code",
   "execution_count": 25,
   "id": "9614d614",
   "metadata": {},
   "outputs": [
    {
     "name": "stdout",
     "output_type": "stream",
     "text": [
      "            * \n",
      "           * * \n",
      "          * * * \n",
      "         * * * * \n",
      "        * * * * * \n",
      "       * * * * * * \n",
      "      * * * * * * * \n"
     ]
    }
   ],
   "source": [
    "n=7\n",
    "m=(2*n)-2\n",
    "for i in range(0,n):\n",
    "    for j in range(0,m):\n",
    "        print(end=\" \")\n",
    "    m=m-1\n",
    "    for j in range(0,i+1):\n",
    "        print(\"*\",end=\" \")\n",
    "    print(\"\")"
   ]
  },
  {
   "cell_type": "markdown",
   "id": "8ad55326",
   "metadata": {},
   "source": [
    "Pant style pattern of stars"
   ]
  },
  {
   "cell_type": "code",
   "execution_count": 26,
   "id": "11aaf6e9",
   "metadata": {},
   "outputs": [
    {
     "name": "stdout",
     "output_type": "stream",
     "text": [
      "************\n",
      "*****__*****\n",
      "****____****\n",
      "***______***\n",
      "**________**\n",
      "*__________*\n"
     ]
    }
   ],
   "source": [
    "r=12\n",
    "print(\"*\" * r,end=\"\\n\")\n",
    "i=(r//2)-1\n",
    "j=2\n",
    "while i!=0:\n",
    "    while j<=(r-2):\n",
    "        print(\"*\"  *i,end=\"\")\n",
    "        print(\"_\"  *j,end=\"\")\n",
    "        print(\"*\" *i,end=\"\\n\")\n",
    "        i=i-1\n",
    "        j=j+2"
   ]
  },
  {
   "cell_type": "code",
   "execution_count": null,
   "id": "9238c67b",
   "metadata": {},
   "outputs": [],
   "source": []
  }
 ],
 "metadata": {
  "kernelspec": {
   "display_name": "Python 3 (ipykernel)",
   "language": "python",
   "name": "python3"
  },
  "language_info": {
   "codemirror_mode": {
    "name": "ipython",
    "version": 3
   },
   "file_extension": ".py",
   "mimetype": "text/x-python",
   "name": "python",
   "nbconvert_exporter": "python",
   "pygments_lexer": "ipython3",
   "version": "3.8.8"
  }
 },
 "nbformat": 4,
 "nbformat_minor": 5
}
