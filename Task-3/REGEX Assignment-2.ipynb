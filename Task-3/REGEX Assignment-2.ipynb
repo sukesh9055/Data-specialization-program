{
 "cells": [
  {
   "cell_type": "markdown",
   "id": "b557ff13",
   "metadata": {},
   "source": [
    "Python Lambda Functions are anonymous function means that the function is without a name. As we already know that the def keyword is used to define a normal function in Python. Similarly, the lambda keyword is used to define an anonymous function in Python. "
   ]
  },
  {
   "cell_type": "markdown",
   "id": "64a63f80",
   "metadata": {},
   "source": [
    "Python Lambda Function Syntax:\n",
    "\n",
    "**lambda arguments: expression**"
   ]
  },
  {
   "cell_type": "markdown",
   "id": "4e056c83",
   "metadata": {},
   "source": [
    "Q1.Write a lambda expression to extract first word of a string."
   ]
  },
  {
   "cell_type": "code",
   "execution_count": 1,
   "id": "81bc6bb9",
   "metadata": {},
   "outputs": [
    {
     "name": "stdout",
     "output_type": "stream",
     "text": [
      "sukesh\n"
     ]
    }
   ],
   "source": [
    "x=\"sukesh kumar\"\n",
    "(lambda x:print(x[0:6]))(x)"
   ]
  },
  {
   "cell_type": "code",
   "execution_count": 2,
   "id": "453ed0c0",
   "metadata": {},
   "outputs": [
    {
     "name": "stdout",
     "output_type": "stream",
     "text": [
      "40\n"
     ]
    }
   ],
   "source": [
    "x=lambda a,b:a*b\n",
    "print(x(5,8))"
   ]
  },
  {
   "cell_type": "code",
   "execution_count": 3,
   "id": "e75c85f7",
   "metadata": {},
   "outputs": [
    {
     "name": "stdout",
     "output_type": "stream",
     "text": [
      "my\n"
     ]
    }
   ],
   "source": [
    "my_string = \"my string\"\n",
    "first_word = my_string.split()[0].strip()\n",
    "print(first_word)"
   ]
  },
  {
   "cell_type": "markdown",
   "id": "79a3e973",
   "metadata": {},
   "source": [
    "Python Lambda Function with List Comprehension"
   ]
  },
  {
   "cell_type": "code",
   "execution_count": 4,
   "id": "4a1766a0",
   "metadata": {},
   "outputs": [
    {
     "name": "stdout",
     "output_type": "stream",
     "text": [
      "10\n",
      "20\n",
      "30\n",
      "40\n",
      "50\n",
      "60\n",
      "70\n",
      "80\n",
      "90\n",
      "100\n"
     ]
    }
   ],
   "source": [
    "tables = [lambda x=x:x*10 for x in range(1,11)]\n",
    "for table in tables:\n",
    "    print(table())\n",
    "    "
   ]
  },
  {
   "cell_type": "markdown",
   "id": "15cae441",
   "metadata": {},
   "source": [
    "Python Lambda Function with if-else"
   ]
  },
  {
   "cell_type": "code",
   "execution_count": 5,
   "id": "a3c440c3",
   "metadata": {},
   "outputs": [
    {
     "name": "stdout",
     "output_type": "stream",
     "text": [
      "98756\n"
     ]
    }
   ],
   "source": [
    "max = lambda a,b : a if(a>b) else b\n",
    "print(max(2,98756))"
   ]
  },
  {
   "cell_type": "markdown",
   "id": "0f326a71",
   "metadata": {},
   "source": [
    "Python Lambda with Multiple statements"
   ]
  },
  {
   "cell_type": "code",
   "execution_count": 6,
   "id": "c55a97e3",
   "metadata": {},
   "outputs": [
    {
     "name": "stdout",
     "output_type": "stream",
     "text": [
      "[3, 4, 5]\n"
     ]
    }
   ],
   "source": [
    "list =[[2,3,4],[1,4,3,4,56],[2,3,4,5,24,4]]\n",
    "sort=lambda x:(sorted(i) for i in x)\n",
    "secondl = lambda x,f:[y[len(y)-2] for y in f(x)]\n",
    "res = secondl(list,sort)\n",
    "print(res)"
   ]
  },
  {
   "cell_type": "markdown",
   "id": "f8b4c6fc",
   "metadata": {},
   "source": [
    "Using lambda() Function with filter()\n",
    "\n",
    "The filter() function in Python takes in a function and a list as arguments. This offers an elegant way to filter out all the elements of a sequence “sequence”, for which the function returns True. "
   ]
  },
  {
   "cell_type": "code",
   "execution_count": 7,
   "id": "69e9d6a5",
   "metadata": {},
   "outputs": [
    {
     "name": "stdout",
     "output_type": "stream",
     "text": [
      "(5, 7, 97, 77, 23, 73, 61)\n"
     ]
    }
   ],
   "source": [
    "li = (5, 7, 22, 97, 54, 62, 77, 23, 73, 61)\n",
    " \n",
    "final_list = tuple(filter(lambda x: (x%2 != 0) , li))\n",
    "print(final_list)"
   ]
  },
  {
   "cell_type": "markdown",
   "id": "25f5754e",
   "metadata": {},
   "source": [
    "Using lambda() Function with map()"
   ]
  },
  {
   "cell_type": "code",
   "execution_count": 8,
   "id": "f49aa2ff",
   "metadata": {},
   "outputs": [
    {
     "name": "stdout",
     "output_type": "stream",
     "text": [
      "(10, 64, 4, 6, 48, 4, 8504, 8, 48)\n"
     ]
    }
   ],
   "source": [
    "li = (5,32,2,3,24,2,4252,4,24)\n",
    "f_l = tuple(map(lambda x:x*2,li))\n",
    "print(f_l)"
   ]
  },
  {
   "cell_type": "code",
   "execution_count": 9,
   "id": "167fbf5f",
   "metadata": {},
   "outputs": [
    {
     "name": "stdout",
     "output_type": "stream",
     "text": [
      "('DOG', 'CAT', 'PARROT', 'PIG')\n"
     ]
    }
   ],
   "source": [
    "animals = ['dog',\"cat\",\"parrot\",\"pig\"]\n",
    "upper = tuple(map(lambda animal:str.upper(animal),animals))\n",
    "print(upper)"
   ]
  },
  {
   "cell_type": "markdown",
   "id": "9e28b7e4",
   "metadata": {},
   "source": [
    "Using lambda() Function with reduce()\n",
    "\n",
    "The reduce() function in Python takes in a function and a list as an argument. The function is called with a lambda function and an iterable and a new reduced result is returned."
   ]
  },
  {
   "cell_type": "code",
   "execution_count": 10,
   "id": "4182a8c0",
   "metadata": {},
   "outputs": [
    {
     "name": "stdout",
     "output_type": "stream",
     "text": [
      "15500160\n"
     ]
    }
   ],
   "source": [
    "from functools import reduce\n",
    "li=[3,4,2,23,5,6,8,9,13]\n",
    "sum = reduce((lambda x,y:x*y),li)\n",
    "print(sum)"
   ]
  },
  {
   "cell_type": "markdown",
   "id": "bd98651e",
   "metadata": {},
   "source": [
    "Q2.Write a function to extract first word of s string (with many words separated by space)."
   ]
  },
  {
   "cell_type": "code",
   "execution_count": 13,
   "id": "1577d29a",
   "metadata": {},
   "outputs": [
    {
     "name": "stdout",
     "output_type": "stream",
     "text": [
      "i hate u\n",
      "['i', 'hate u']\n"
     ]
    }
   ],
   "source": [
    "s=str(input())\n",
    "b=s.split(\" \",1)\n",
    "print(str(b))"
   ]
  },
  {
   "cell_type": "code",
   "execution_count": 14,
   "id": "05826ee2",
   "metadata": {},
   "outputs": [
    {
     "name": "stdout",
     "output_type": "stream",
     "text": [
      "\n",
      "i\n",
      "love\n",
      "u\n"
     ]
    }
   ],
   "source": [
    "def firstword(string):\n",
    "    word = string.split(\" \")\n",
    "    print(*word, sep=\"\\n\")\n",
    "s = \" i love u\"\n",
    "firstword(s)"
   ]
  },
  {
   "cell_type": "markdown",
   "id": "9e86d439",
   "metadata": {},
   "source": [
    "Q3. Extract the first word from every string from a list of strings by using map function."
   ]
  },
  {
   "cell_type": "code",
   "execution_count": 15,
   "id": "93db07a7",
   "metadata": {},
   "outputs": [
    {
     "name": "stdout",
     "output_type": "stream",
     "text": [
      "The original list is : ['Gfg best for', 'All gods', 'It is for', 'all CS professionals']\n",
      "The 1st words in list are : ['Gfg', 'All', 'It', 'all']\n"
     ]
    }
   ],
   "source": [
    "test_list = ['Gfg best for', 'All gods', 'It is for', 'all CS professionals']\n",
    "print(\"The original list is : \" + str(test_list))\n",
    "N = 1\n",
    "res = [sub.split()[N - 1] for sub in test_list if len(sub.split()) > 1]\n",
    "print(\"The 1st words in list are : \" + str(res)) "
   ]
  },
  {
   "cell_type": "markdown",
   "id": "0bb04d8b",
   "metadata": {},
   "source": [
    "Q4.Write a function to return a list of prime factors of a given number."
   ]
  },
  {
   "cell_type": "code",
   "execution_count": 16,
   "id": "06def10c",
   "metadata": {
    "scrolled": true
   },
   "outputs": [
    {
     "name": "stdout",
     "output_type": "stream",
     "text": [
      "3\n",
      "3\n",
      "5\n",
      "7\n"
     ]
    }
   ],
   "source": [
    "import math\n",
    "def prime(n):\n",
    "    while n%2==0:\n",
    "        print(n)\n",
    "        n=n/2\n",
    "    for i in range(3,int(math.sqrt(n))+1,2):\n",
    "        while n%i == 0:\n",
    "            print(i)\n",
    "            n=n/i\n",
    "    if n>2:\n",
    "        print(n)\n",
    "n=315\n",
    "prime(n)"
   ]
  },
  {
   "cell_type": "markdown",
   "id": "bcec5425",
   "metadata": {},
   "source": [
    "Q5. Write a function that finds 2nd largest among 4 numbers (Repetitions are allowed,\n",
    "without sorting)."
   ]
  },
  {
   "cell_type": "code",
   "execution_count": 1,
   "id": "3977cefd",
   "metadata": {},
   "outputs": [
    {
     "name": "stdout",
     "output_type": "stream",
     "text": [
      "8\n"
     ]
    }
   ],
   "source": [
    "l1=[10,2,3,4,4,8]\n",
    "new_lists = set(l1)\n",
    "#print(new_lists)\n",
    "new_lists.remove(max(new_lists))\n",
    "print(max(new_lists))"
   ]
  },
  {
   "cell_type": "markdown",
   "id": "d513d2f7",
   "metadata": {},
   "source": [
    "Q7. Take a input from the user and verify the data is a palindrome or not\n",
    "\"NAMAN\""
   ]
  },
  {
   "cell_type": "code",
   "execution_count": 2,
   "id": "37149613",
   "metadata": {},
   "outputs": [
    {
     "name": "stdout",
     "output_type": "stream",
     "text": [
      "NAMAN\n",
      "NAMAN\n",
      "it is palindrome\n"
     ]
    }
   ],
   "source": [
    "s=str(input())\n",
    "a=s\n",
    "b=s[::-1]\n",
    "print(b)\n",
    "if (a==b):\n",
    "    print(\"it is palindrome\")\n",
    "else:\n",
    "    print(\"it is not a palindrome\")"
   ]
  },
  {
   "cell_type": "markdown",
   "id": "cb89ed6b",
   "metadata": {},
   "source": [
    "Q6. Take an input from the user as string and find out all the non duplicate words from the input"
   ]
  },
  {
   "cell_type": "code",
   "execution_count": 3,
   "id": "d1bf0321",
   "metadata": {},
   "outputs": [
    {
     "name": "stdout",
     "output_type": "stream",
     "text": [
      "['hello', 'I', 'am', 'good', 'hello', 'user', 'user', 'welcome']\n",
      "[]\n",
      "hello I am good user welcome\n"
     ]
    }
   ],
   "source": [
    "s = \"hello I am good hello user user welcome\"\n",
    "l = s.split()\n",
    "k=[]\n",
    "print(l)\n",
    "print(k)\n",
    "for i in l:\n",
    "    if (s.count(i)==1 or (i not in k)):\n",
    "        k.append(i)\n",
    "        \n",
    "        \n",
    "    \n",
    "print(\" \".join(k))\n"
   ]
  },
  {
   "cell_type": "markdown",
   "id": "689e3332",
   "metadata": {},
   "source": [
    "Use exception handling to find out the LCM & HCF of two numbers\n",
    "- Input of two numbers has to be given by the user"
   ]
  },
  {
   "cell_type": "code",
   "execution_count": 4,
   "id": "b04d4aa6",
   "metadata": {},
   "outputs": [
    {
     "name": "stdout",
     "output_type": "stream",
     "text": [
      "12\n",
      "18\n",
      "6\n"
     ]
    }
   ],
   "source": [
    "a=int(input())\n",
    "b=int(input())\n",
    "hcf=1\n",
    "for i in range(2,a+1):\n",
    "    if(a%i==0 and b%i==0):\n",
    "        hcf=i\n",
    "print(hcf)"
   ]
  },
  {
   "cell_type": "code",
   "execution_count": 5,
   "id": "bf8898d4",
   "metadata": {},
   "outputs": [
    {
     "name": "stdout",
     "output_type": "stream",
     "text": [
      "12\n",
      "18\n",
      "36\n"
     ]
    }
   ],
   "source": [
    "a=int(input())\n",
    "b=int(input())\n",
    "hcf=1\n",
    "for i in range(2,a+1):\n",
    "    if(a%i==0 and b%i==0):\n",
    "        hcf=i\n",
    "lcm=int((a*b)/(hcf))\n",
    "print(lcm)"
   ]
  },
  {
   "cell_type": "code",
   "execution_count": null,
   "id": "ef7ff648",
   "metadata": {},
   "outputs": [],
   "source": []
  }
 ],
 "metadata": {
  "kernelspec": {
   "display_name": "Python 3 (ipykernel)",
   "language": "python",
   "name": "python3"
  },
  "language_info": {
   "codemirror_mode": {
    "name": "ipython",
    "version": 3
   },
   "file_extension": ".py",
   "mimetype": "text/x-python",
   "name": "python",
   "nbconvert_exporter": "python",
   "pygments_lexer": "ipython3",
   "version": "3.8.8"
  }
 },
 "nbformat": 4,
 "nbformat_minor": 5
}
